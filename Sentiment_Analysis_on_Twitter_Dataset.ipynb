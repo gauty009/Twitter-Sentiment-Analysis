{
  "nbformat": 4,
  "nbformat_minor": 0,
  "metadata": {
    "colab": {
      "name": "Sentiment Analysis on Twitter Dataset",
      "provenance": [],
      "collapsed_sections": [],
      "toc_visible": true
    },
    "kernelspec": {
      "name": "python3",
      "display_name": "Python 3"
    }
  },
  "cells": [
    {
      "cell_type": "markdown",
      "metadata": {
        "id": "Ao03UW5TH840",
        "colab_type": "text"
      },
      "source": [
        "# Sentiment Analysis on Twitter Dataset \n",
        "The task of the project is to classify tweets into three sentiments -- positive, neutral and negative.\n",
        "We obtain the dataset from [semeval2014](http://alt.qcri.org/semeval2014/task9/) \n",
        "\n",
        "***Note*** To run this notebook, open it in a playground and then run all cells (Ctrl + F9)\n",
        "\n",
        "\n"
      ]
    },
    {
      "cell_type": "markdown",
      "metadata": {
        "id": "hofioU6GIp_s",
        "colab_type": "text"
      },
      "source": [
        "Now we download the dataset into current working directory."
      ]
    },
    {
      "cell_type": "code",
      "metadata": {
        "id": "uCKMP6IaN8GB",
        "colab_type": "code",
        "outputId": "166d87d3-834f-4485-9976-b4ecf4b29ee2",
        "colab": {
          "base_uri": "https://localhost:8080/",
          "height": 217
        }
      },
      "source": [
        "!wget https://raw.githubusercontent.com/laugustyniak/sas2015/master/data/SemEval-2014.csv"
      ],
      "execution_count": 2,
      "outputs": [
        {
          "output_type": "stream",
          "text": [
            "--2020-05-17 02:01:10--  https://raw.githubusercontent.com/laugustyniak/sas2015/master/data/SemEval-2014.csv\n",
            "Resolving raw.githubusercontent.com (raw.githubusercontent.com)... 151.101.0.133, 151.101.64.133, 151.101.128.133, ...\n",
            "Connecting to raw.githubusercontent.com (raw.githubusercontent.com)|151.101.0.133|:443... connected.\n",
            "HTTP request sent, awaiting response... 200 OK\n",
            "Length: 794588 (776K) [text/plain]\n",
            "Saving to: ‘SemEval-2014.csv.1’\n",
            "\n",
            "\rSemEval-2014.csv.1    0%[                    ]       0  --.-KB/s               \rSemEval-2014.csv.1  100%[===================>] 775.96K  --.-KB/s    in 0.07s   \n",
            "\n",
            "2020-05-17 02:01:11 (10.9 MB/s) - ‘SemEval-2014.csv.1’ saved [794588/794588]\n",
            "\n"
          ],
          "name": "stdout"
        }
      ]
    },
    {
      "cell_type": "code",
      "metadata": {
        "id": "FSdgZ9PcJvC5",
        "colab_type": "code",
        "outputId": "8fe556bd-46d7-4454-97e9-6749d9c19b7d",
        "colab": {
          "base_uri": "https://localhost:8080/",
          "height": 72
        }
      },
      "source": [
        "import torch\n",
        "import pandas as pd\n",
        "import nltk\n",
        "from nltk.tokenize import word_tokenize \n",
        "from nltk.corpus import stopwords\n",
        "from nltk.stem.porter import PorterStemmer\n",
        "from  torch.utils.data import Dataset, DataLoader\n",
        "import numpy as np\n",
        "import torch.nn as nn\n",
        "import torch.optim as optim\n",
        "import tqdm\n",
        "import matplotlib.pyplot as plt\n",
        "%matplotlib inline\n",
        "nltk.download('punkt')"
      ],
      "execution_count": 4,
      "outputs": [
        {
          "output_type": "stream",
          "text": [
            "[nltk_data] Downloading package punkt to /root/nltk_data...\n",
            "[nltk_data]   Package punkt is already up-to-date!\n"
          ],
          "name": "stdout"
        },
        {
          "output_type": "execute_result",
          "data": {
            "text/plain": [
              "True"
            ]
          },
          "metadata": {
            "tags": []
          },
          "execution_count": 4
        }
      ]
    },
    {
      "cell_type": "markdown",
      "metadata": {
        "id": "EEPbqFLejjbt",
        "colab_type": "text"
      },
      "source": [
        "We now read the data and show you how it looks."
      ]
    },
    {
      "cell_type": "code",
      "metadata": {
        "id": "yQU1tqLDKMtm",
        "colab_type": "code",
        "outputId": "4b8739b1-5aa0-4eab-fba4-20b1d8b53380",
        "colab": {
          "base_uri": "https://localhost:8080/",
          "height": 206
        }
      },
      "source": [
        "data = pd.read_csv('SemEval-2014.csv', index_col=0)\n",
        "data.head()"
      ],
      "execution_count": 9,
      "outputs": [
        {
          "output_type": "execute_result",
          "data": {
            "text/html": [
              "<div>\n",
              "<style scoped>\n",
              "    .dataframe tbody tr th:only-of-type {\n",
              "        vertical-align: middle;\n",
              "    }\n",
              "\n",
              "    .dataframe tbody tr th {\n",
              "        vertical-align: top;\n",
              "    }\n",
              "\n",
              "    .dataframe thead th {\n",
              "        text-align: right;\n",
              "    }\n",
              "</style>\n",
              "<table border=\"1\" class=\"dataframe\">\n",
              "  <thead>\n",
              "    <tr style=\"text-align: right;\">\n",
              "      <th></th>\n",
              "      <th>sentiment</th>\n",
              "      <th>document</th>\n",
              "    </tr>\n",
              "  </thead>\n",
              "  <tbody>\n",
              "    <tr>\n",
              "      <th>0</th>\n",
              "      <td>3</td>\n",
              "      <td>Gas by my house hit $3.39!!!! I'm going to Cha...</td>\n",
              "    </tr>\n",
              "    <tr>\n",
              "      <th>1</th>\n",
              "      <td>1</td>\n",
              "      <td>Theo Walcott is still shit, watch Rafa and Joh...</td>\n",
              "    </tr>\n",
              "    <tr>\n",
              "      <th>2</th>\n",
              "      <td>1</td>\n",
              "      <td>its not that I'm a GSP fan, i just hate Nick D...</td>\n",
              "    </tr>\n",
              "    <tr>\n",
              "      <th>3</th>\n",
              "      <td>1</td>\n",
              "      <td>Iranian general says Israel's Iron Dome can't ...</td>\n",
              "    </tr>\n",
              "    <tr>\n",
              "      <th>4</th>\n",
              "      <td>3</td>\n",
              "      <td>with J Davlar 11th. Main rivals are team Polan...</td>\n",
              "    </tr>\n",
              "  </tbody>\n",
              "</table>\n",
              "</div>"
            ],
            "text/plain": [
              "   sentiment                                           document\n",
              "0          3  Gas by my house hit $3.39!!!! I'm going to Cha...\n",
              "1          1  Theo Walcott is still shit, watch Rafa and Joh...\n",
              "2          1  its not that I'm a GSP fan, i just hate Nick D...\n",
              "3          1  Iranian general says Israel's Iron Dome can't ...\n",
              "4          3  with J Davlar 11th. Main rivals are team Polan..."
            ]
          },
          "metadata": {
            "tags": []
          },
          "execution_count": 9
        }
      ]
    },
    {
      "cell_type": "markdown",
      "metadata": {
        "id": "Q8QagjfwRsR-",
        "colab_type": "text"
      },
      "source": [
        "Now, we shall construct the vocabulary, tokenize the sentences, and calculate the maximum sentence length. \\\\\n",
        "***Note***: after tokenization we remove the stop words and the puctuations. We also convert all words to lower case and also stem words."
      ]
    },
    {
      "cell_type": "code",
      "metadata": {
        "id": "WBxjCarMP7zY",
        "colab_type": "code",
        "outputId": "82961b64-cc68-4215-9a3c-02098143f7c7",
        "colab": {
          "base_uri": "https://localhost:8080/",
          "height": 53
        }
      },
      "source": [
        "vocab = set()\n",
        "max_sent_len = 0\n",
        "data_tokenized = []\n",
        "data_label = []\n",
        "porter = PorterStemmer()\n",
        "for ind in data.index:\n",
        "  data_label.append(int(data.sentiment[ind])-1)\n",
        "  document = data.document[ind]\n",
        "  doc_tokens = word_tokenize(document)\n",
        "  # doc_tokens = [word.lower() for word in doc_tokens if word.isalpha()] # with out stemming \n",
        "  doc_tokens = [porter.stem(word) for word in doc_tokens if word.isalpha()]\n",
        "  data_tokenized.append(doc_tokens)\n",
        "  max_sent_len = max(max_sent_len, len(doc_tokens))\n",
        "  vocab = vocab.union(set(doc_tokens))\n",
        "print(len(vocab))\n",
        "print(max_sent_len)"
      ],
      "execution_count": 7,
      "outputs": [
        {
          "output_type": "stream",
          "text": [
            "11962\n",
            "198\n"
          ],
          "name": "stdout"
        }
      ]
    },
    {
      "cell_type": "markdown",
      "metadata": {
        "id": "LVmZZe0SSLtB",
        "colab_type": "text"
      },
      "source": [
        "We now have to make all the tokenised sentences equal to the maximum length of the sentances. We do this by padding the sentances by '\\<pad>' token"
      ]
    },
    {
      "cell_type": "code",
      "metadata": {
        "id": "KiZfaSiiSllG",
        "colab_type": "code",
        "colab": {}
      },
      "source": [
        "def pad(sent: list, total_len:int, pad_token:str) -> list:\n",
        "  return sent+[pad_token]*(total_len-len(sent))\n",
        "pad_token = \"<pad>\"\n",
        "vocab.add(pad_token)\n",
        "# print(training_data_tokenized[1:10])\n",
        "data_padded = list(map(lambda x: pad(x,max_sent_len,pad_token), data_tokenized))"
      ],
      "execution_count": 0,
      "outputs": []
    },
    {
      "cell_type": "markdown",
      "metadata": {
        "id": "0j4DPot_YwS7",
        "colab_type": "text"
      },
      "source": [
        "For the ease of training we convert the padded string lists to int lists and create a map from the string tokens to unique integers"
      ]
    },
    {
      "cell_type": "code",
      "metadata": {
        "id": "jLLG3MU9YLGO",
        "colab_type": "code",
        "colab": {}
      },
      "source": [
        "token_to_id = {token:i for i, token in enumerate(vocab)}\n",
        "def conv_strlist_intlist(sent:list) -> list:\n",
        "  return list(map(lambda x: token_to_id[x],sent))\n",
        "data_padded_int = list(map(conv_strlist_intlist, data_padded))\n",
        "# train_data_padded_int[0]"
      ],
      "execution_count": 0,
      "outputs": []
    },
    {
      "cell_type": "markdown",
      "metadata": {
        "id": "dYKmhMV7Z6QO",
        "colab_type": "text"
      },
      "source": [
        "We now create a pytorch dataset for training purposes. Here we split the data into training and validation data in ratio of 9:1"
      ]
    },
    {
      "cell_type": "code",
      "metadata": {
        "id": "WLPNBC17Z5JP",
        "colab_type": "code",
        "outputId": "45fd728c-f235-45f5-91f5-7a8be0e15ca0",
        "colab": {
          "base_uri": "https://localhost:8080/",
          "height": 53
        }
      },
      "source": [
        "class dataset(Dataset):\n",
        "  def __init__(self, data:list, labels:list):\n",
        "    super().__init__()\n",
        "    self.data = np.array(data)\n",
        "    self.labels = np.array(labels)\n",
        "  def __len__(self):\n",
        "    return len(self.data)\n",
        "  def __getitem__(self, i):\n",
        "    return self.data[i,:], self.labels[i]\n",
        "print(len(data_padded_int))\n",
        "val_size = (len(data_padded_int))//10\n",
        "print(val_size)\n",
        "train_dataset = dataset(data_padded_int[:-val_size],data_label[:-val_size])\n",
        "val_dataset = dataset(data_padded_int[val_size:],data_label[val_size:])"
      ],
      "execution_count": 13,
      "outputs": [
        {
          "output_type": "stream",
          "text": [
            "6265\n",
            "626\n"
          ],
          "name": "stdout"
        }
      ]
    },
    {
      "cell_type": "markdown",
      "metadata": {
        "id": "tfqQOvD1b2vL",
        "colab_type": "text"
      },
      "source": [
        "We define our model below, it's a fully connected neural network along with a maxpooling layer over all the embeddings. We use the standard ReLU non-linearaty.\n",
        "We also make use of an inbuild embedding layer. \\\\\n",
        "We finalised the below model with extensive experimentation\n",
        " <!-- We use dropout as our regulariser -->"
      ]
    },
    {
      "cell_type": "code",
      "metadata": {
        "id": "LXRioz1Eb7uq",
        "colab_type": "code",
        "colab": {}
      },
      "source": [
        "embedding_dem = 1024\n",
        "class Model(nn.Module):\n",
        "  def __init__(self, embedding_dim):\n",
        "    super().__init__()\n",
        "    self.embeding_layer = nn.Embedding(len(vocab),embedding_dim,padding_idx=token_to_id[pad_token]) #gives coressponding embeddings\n",
        "    self.maxpool = nn.MaxPool1d(max_sent_len) #if l - lxEmbeding\n",
        "    self.layers = [\n",
        "                   nn.Linear(embedding_dim, 512),\n",
        "                   nn.ReLU(),\n",
        "                   nn.Linear(512,64),\n",
        "                   nn.ReLU(),\n",
        "                  #  nn.Dropout(),\n",
        "                   nn.Linear(64,64),\n",
        "                   nn.ReLU(),\n",
        "                  #  nn.Dropout(),\n",
        "                   nn.Linear(64,3)\n",
        "    ]\n",
        "    self.nn = nn.Sequential(*self.layers)\n",
        "  def forward(self,x):\n",
        "    x = self.embeding_layer(x)\n",
        "    x = x.permute(0,2,1)\n",
        "    x = self.maxpool(x)\n",
        "    x = x.squeeze(-1)\n",
        "    x = self.nn(x)\n",
        "    return x"
      ],
      "execution_count": 0,
      "outputs": []
    },
    {
      "cell_type": "markdown",
      "metadata": {
        "id": "95UJ5cKHhWMk",
        "colab_type": "text"
      },
      "source": [
        "We define procedures for training and validation"
      ]
    },
    {
      "cell_type": "code",
      "metadata": {
        "id": "efAxqtDEg0QK",
        "colab_type": "code",
        "colab": {}
      },
      "source": [
        "def train_epoch(dataloader, model, optimizer, loss):\n",
        "  average_loss = 0\n",
        "  model.train()\n",
        "  total_elements = 0\n",
        "  total_accuracy = 0\n",
        "  for batch, (data, label) in enumerate(dataloader):\n",
        "    data = data.cuda()\n",
        "    label = label.cuda()\n",
        "    model.zero_grad()\n",
        "    y = model(data)\n",
        "    loss_ = loss(y,label)\n",
        "    loss_.backward()\n",
        "    optimizer.step()\n",
        "    average_loss += loss_.detach().cpu().numpy()\n",
        "    total_elements += label.shape[0]\n",
        "    total_accuracy += torch.sum(y.argmax(axis = -1) == label).detach().cpu().numpy()\n",
        "  batch += 1\n",
        "  return average_loss/batch , total_accuracy/total_elements\n",
        "\n",
        "def validate(dataloader, model, loss):\n",
        "  with torch.no_grad():\n",
        "    model.eval()\n",
        "    total_accuracy = 0\n",
        "    total_loss = 0\n",
        "    total_elements = 0\n",
        "    for batch, (data, label) in enumerate(dataloader):\n",
        "      data = data.cuda()\n",
        "      label = label.cuda()\n",
        "      y = model(data)\n",
        "      loss_ = loss(y, label)\n",
        "      total_loss += loss_.detach().cpu().numpy()\n",
        "      total_elements += label.shape[0]\n",
        "      total_accuracy += torch.sum(y.argmax(axis = -1) == label).detach().cpu().numpy()\n",
        "    batch +=1 \n",
        "    return total_loss/batch, total_accuracy/total_elements\n",
        "\n",
        "def train(train_dataloader, test_dataloader, num_epochs, model, optimizer, loss , lr_scheduler):\n",
        "  train_losses = []\n",
        "  train_accuracies = []\n",
        "  validation_losses = []\n",
        "  validation_accuracies = []\n",
        "  for epoch in range(num_epochs):\n",
        "    train_loss, training_accuracy = train_epoch(train_dataloader, model, optimizer, loss)\n",
        "    validation_loss, validation_accuracy = validate(test_dataloader, model, loss)\n",
        "    train_losses.append(train_loss)\n",
        "    train_accuracies.append(training_accuracy)\n",
        "    validation_losses.append(validation_loss)\n",
        "    validation_accuracies.append(validation_accuracy)\n",
        "    lr_scheduler.step()\n",
        "    print(f'Epoch {epoch}, Training Loss is {train_loss},  validation loss is {validation_loss}')\n",
        "  return train_losses,train_accuracies, validation_losses, validation_accuracies"
      ],
      "execution_count": 0,
      "outputs": []
    },
    {
      "cell_type": "markdown",
      "metadata": {
        "id": "kb0wj_jl4ECR",
        "colab_type": "text"
      },
      "source": [
        "We now train our model. We use the cross entopy loss and we use the Adam optimizer well known for it's quick convergance. We use exponential annealing for the learning rate for smoother training. With extensive experimentantion we find the hyperpareters in the code below. "
      ]
    },
    {
      "cell_type": "code",
      "metadata": {
        "id": "twizyKJPvATq",
        "colab_type": "code",
        "colab": {}
      },
      "source": [
        "batch_size = 64\n",
        "train_dataloader = DataLoader(train_dataset, batch_size=batch_size, shuffle=True)\n",
        "val_dataloader = DataLoader(val_dataset,batch_size=len(val_dataset), shuffle=False)\n",
        "num_epochs = 70\n",
        "lr = 1e-3\n",
        "model = Model(embedding_dem)\n",
        "optimizer = optim.Adam(model.parameters(), lr=lr)\n",
        "lr_scheduler =  optim.lr_scheduler.ExponentialLR(optimizer, gamma = 0.9)\n",
        "model = model.cuda()\n",
        "loss = nn.CrossEntropyLoss()\n",
        "loss = loss.cuda()\n",
        "train_losses, train_accuracies, validation_losses, validation_accuracies = \\\n",
        "          train(train_dataloader,val_dataloader,num_epochs, model, optimizer, loss, lr_scheduler)"
      ],
      "execution_count": 0,
      "outputs": []
    },
    {
      "cell_type": "markdown",
      "metadata": {
        "id": "2W1im_y50T71",
        "colab_type": "text"
      },
      "source": [
        "# Plots\n",
        "The below are the training plots. It can be seen that we achive convergence and also avoid overfitting "
      ]
    },
    {
      "cell_type": "code",
      "metadata": {
        "id": "606gHG7L0a0V",
        "colab_type": "code",
        "outputId": "bbe6a12e-db04-43c9-a80a-c5b15dd535eb",
        "colab": {
          "base_uri": "https://localhost:8080/",
          "height": 590
        }
      },
      "source": [
        "x = range(num_epochs)\n",
        "plt.plot(x, train_losses,label=\"train_losses\" )\n",
        "plt.plot(x, validation_losses, label = \"val_losses\")\n",
        "plt.xlabel(\"epochs\")\n",
        "plt.ylabel(\"loss\")\n",
        "plt.title(\"Epochs vs training and validation Losses\")\n",
        "plt.legend()\n",
        "plt.figure()\n",
        "plt.plot(x,validation_accuracies, label = \"validation accuracy\")\n",
        "plt.plot(x, train_accuracies, label = \" training accuracy\")\n",
        "plt.title(\"Epochs vs training and validation accuracies\")\n",
        "plt.xlabel(\"epochs\")\n",
        "plt.ylabel(\"accuracy\")\n",
        "plt.legend()\n",
        "print(f' Final training accuracy is {train_accuracies[-1]}, final validation accuracy is {validation_accuracies[-1]}')"
      ],
      "execution_count": 0,
      "outputs": [
        {
          "output_type": "stream",
          "text": [
            " Final training accuracy is 0.9836850505408761, final validation accuracy is 0.9432523497073949\n"
          ],
          "name": "stdout"
        },
        {
          "output_type": "display_data",
          "data": {
            "image/png": "[encoded data removed]",
            "text/plain": [
              "<Figure size 432x288 with 1 Axes>"
            ]
          },
          "metadata": {
            "tags": [],
            "needs_background": "light"
          }
        },
        {
          "output_type": "display_data",
          "data": {
            "image/png": "[encoded data removed]",
            "text/plain": [
              "<Figure size 432x288 with 1 Axes>"
            ]
          },
          "metadata": {
            "tags": [],
            "needs_background": "light"
          }
        }
      ]
    },
    {
      "cell_type": "markdown",
      "metadata": {
        "id": "iXNHcyoSid-E",
        "colab_type": "text"
      },
      "source": [
        "# Conclusion \n",
        "We could achieve a training accuray of 98% and validation accuray of 94% using a simple neural network model. "
      ]
    }
  ]
}